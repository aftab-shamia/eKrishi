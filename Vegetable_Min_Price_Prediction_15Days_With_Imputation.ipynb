{
 "cells": [
  {
   "cell_type": "code",
   "execution_count": 191,
   "id": "d6f8e59e-6460-43c1-8b59-f919d388f77f",
   "metadata": {},
   "outputs": [],
   "source": [
    "import pandas as pd\n",
    "from prophet import Prophet\n",
    "import numpy                              as      np\n",
    "import matplotlib.pyplot                  as      plt\n",
    "import seaborn                            as      sns\n",
    "from   IPython.display                    import  display\n",
    "from   pylab                              import  rcParams \n",
    "from   datetime                           import  datetime, timedelta\n",
    "from statsmodels.tsa.stattools            import  adfuller\n",
    "from statsmodels.tsa.stattools            import  pacf\n",
    "from statsmodels.tsa.stattools            import  acf\n",
    "from statsmodels.graphics.tsaplots        import  plot_pacf\n",
    "from statsmodels.graphics.tsaplots        import  plot_acf\n",
    "from statsmodels.graphics.gofplots        import  qqplot\n",
    "from statsmodels.tsa.seasonal             import  seasonal_decompose\n",
    "from statsmodels.tsa.arima_model          import  ARIMA,ARMA\n",
    "from statsmodels.tsa.statespace.sarimax   import  SARIMAX\n",
    "import warnings\n",
    "#import seaborn as sns\n",
    "warnings.filterwarnings('ignore')\n",
    "from sklearn.metrics import mean_absolute_error"
   ]
  },
  {
   "cell_type": "code",
   "execution_count": 192,
   "id": "7c9ba233-1ac6-4611-9950-911d7fac3330",
   "metadata": {},
   "outputs": [],
   "source": [
    "import uvicorn\n",
    "from fastapi import FastAPI\n",
    "import joblib"
   ]
  },
  {
   "cell_type": "code",
   "execution_count": 193,
   "id": "246ef3e1-c794-446c-b78a-1bf15f12eba6",
   "metadata": {},
   "outputs": [],
   "source": [
    "veg = str(input(\"Enter the commodity = \"))"
   ]
  },
  {
   "cell_type": "code",
   "execution_count": 194,
   "id": "f87b5e98-ea57-45e5-8666-3ef6788d0559",
   "metadata": {},
   "outputs": [],
   "source": [
    "market = str(input(\"Enter the market = \"))"
   ]
  },
  {
   "cell_type": "code",
   "execution_count": 195,
   "id": "24921526-48a0-40a5-80c5-c3c31373b01f",
   "metadata": {},
   "outputs": [
    {
     "name": "stdout",
     "output_type": "stream",
     "text": [
      "Tomato\n"
     ]
    }
   ],
   "source": [
    "print(veg)"
   ]
  },
  {
   "cell_type": "code",
   "execution_count": 196,
   "id": "b1818870-6fe8-4856-9ed4-829649d49a83",
   "metadata": {},
   "outputs": [
    {
     "name": "stdout",
     "output_type": "stream",
     "text": [
      "Bowenpally\n"
     ]
    }
   ],
   "source": [
    "print(market)"
   ]
  },
  {
   "cell_type": "code",
   "execution_count": 197,
   "id": "33bb6700-3bef-4ad4-876d-84a7caa9f47e",
   "metadata": {},
   "outputs": [
    {
     "data": {
      "text/plain": [
       "DatetimeIndex(['2023-08-01', '2023-08-02', '2023-08-03', '2023-08-04',\n",
       "               '2023-08-05', '2023-08-06', '2023-08-07', '2023-08-08',\n",
       "               '2023-08-09', '2023-08-10',\n",
       "               ...\n",
       "               '2024-07-22', '2024-07-23', '2024-07-24', '2024-07-25',\n",
       "               '2024-07-26', '2024-07-27', '2024-07-28', '2024-07-29',\n",
       "               '2024-07-30', '2024-07-31'],\n",
       "              dtype='datetime64[ns]', length=366, freq='D')"
      ]
     },
     "execution_count": 197,
     "metadata": {},
     "output_type": "execute_result"
    }
   ],
   "source": [
    "dt = pd.date_range(start ='08-01-2023', end ='31-07-2024', freq ='D' )\n",
    "dt"
   ]
  },
  {
   "cell_type": "code",
   "execution_count": 198,
   "id": "afc6c560-851b-4e0b-8927-8cc6399b0729",
   "metadata": {},
   "outputs": [],
   "source": [
    "df = pd.read_excel('Book.xlsx',parse_dates=['Reported Date'],sheet_name = veg, index_col = 'Reported Date')"
   ]
  },
  {
   "cell_type": "code",
   "execution_count": 199,
   "id": "218db193-1d70-497a-99e9-42177af62076",
   "metadata": {},
   "outputs": [],
   "source": [
    "df1_price_new = pd.DataFrame(columns=['Market Name','Min Price (Rs./Quintal)'],data=df,index=dt)"
   ]
  },
  {
   "cell_type": "code",
   "execution_count": 200,
   "id": "5fb48822-ac17-442a-bfb4-550f8261bfdb",
   "metadata": {},
   "outputs": [
    {
     "data": {
      "text/html": [
       "<div>\n",
       "<style scoped>\n",
       "    .dataframe tbody tr th:only-of-type {\n",
       "        vertical-align: middle;\n",
       "    }\n",
       "\n",
       "    .dataframe tbody tr th {\n",
       "        vertical-align: top;\n",
       "    }\n",
       "\n",
       "    .dataframe thead th {\n",
       "        text-align: right;\n",
       "    }\n",
       "</style>\n",
       "<table border=\"1\" class=\"dataframe\">\n",
       "  <thead>\n",
       "    <tr style=\"text-align: right;\">\n",
       "      <th></th>\n",
       "      <th>Market Name</th>\n",
       "      <th>Min Price (Rs./Quintal)</th>\n",
       "    </tr>\n",
       "  </thead>\n",
       "  <tbody>\n",
       "    <tr>\n",
       "      <th>2023-08-01</th>\n",
       "      <td>NaN</td>\n",
       "      <td>NaN</td>\n",
       "    </tr>\n",
       "    <tr>\n",
       "      <th>2023-08-02</th>\n",
       "      <td>NaN</td>\n",
       "      <td>NaN</td>\n",
       "    </tr>\n",
       "    <tr>\n",
       "      <th>2023-08-03</th>\n",
       "      <td>NaN</td>\n",
       "      <td>NaN</td>\n",
       "    </tr>\n",
       "    <tr>\n",
       "      <th>2023-08-04</th>\n",
       "      <td>NaN</td>\n",
       "      <td>NaN</td>\n",
       "    </tr>\n",
       "    <tr>\n",
       "      <th>2023-08-05</th>\n",
       "      <td>NaN</td>\n",
       "      <td>NaN</td>\n",
       "    </tr>\n",
       "  </tbody>\n",
       "</table>\n",
       "</div>"
      ],
      "text/plain": [
       "           Market Name  Min Price (Rs./Quintal)\n",
       "2023-08-01         NaN                      NaN\n",
       "2023-08-02         NaN                      NaN\n",
       "2023-08-03         NaN                      NaN\n",
       "2023-08-04         NaN                      NaN\n",
       "2023-08-05         NaN                      NaN"
      ]
     },
     "execution_count": 200,
     "metadata": {},
     "output_type": "execute_result"
    }
   ],
   "source": [
    "df1_price_new.head()"
   ]
  },
  {
   "cell_type": "code",
   "execution_count": 201,
   "id": "892107b4-d210-45fd-94a8-4fc3790063bb",
   "metadata": {},
   "outputs": [],
   "source": [
    "df1_price_new['Market Name'].fillna(market,inplace=True)"
   ]
  },
  {
   "cell_type": "code",
   "execution_count": 202,
   "id": "32504de9-b5cc-46d1-a96b-19bebc119a53",
   "metadata": {},
   "outputs": [],
   "source": [
    "df1_price_new['Min Price (Rs./Quintal)'].fillna(method='bfill',inplace=True)\n",
    "df1_price_new['Min Price (Rs./Quintal)'].fillna(method='ffill',inplace=True)"
   ]
  },
  {
   "cell_type": "code",
   "execution_count": 203,
   "id": "dcbbc019-97f1-4883-a583-a6733c986329",
   "metadata": {},
   "outputs": [
    {
     "data": {
      "text/plain": [
       "Market Name                0\n",
       "Min Price (Rs./Quintal)    0\n",
       "dtype: int64"
      ]
     },
     "execution_count": 203,
     "metadata": {},
     "output_type": "execute_result"
    }
   ],
   "source": [
    "df1_price_new.isnull().sum()"
   ]
  },
  {
   "cell_type": "code",
   "execution_count": 204,
   "id": "7df9ed83-2983-4f7b-8d6f-8fd459ef2a01",
   "metadata": {},
   "outputs": [],
   "source": [
    "df1_price = pd.DataFrame(columns=['Market Name','Min Price (Rs./Quintal)'],data=df1_price_new)"
   ]
  },
  {
   "cell_type": "code",
   "execution_count": 205,
   "id": "00f825f6-1636-459a-be5f-725d662072d1",
   "metadata": {},
   "outputs": [],
   "source": [
    "df1_price = df1_price.reset_index()"
   ]
  },
  {
   "cell_type": "code",
   "execution_count": 206,
   "id": "c4b464d8-63f5-4de8-bcd1-2466817bba9c",
   "metadata": {},
   "outputs": [],
   "source": [
    "target = pd.DataFrame()"
   ]
  },
  {
   "cell_type": "code",
   "execution_count": 207,
   "id": "430e48fc-6478-4784-bd91-d0353e38b188",
   "metadata": {},
   "outputs": [],
   "source": [
    "df1_price.rename({'Market Name':'Market'},axis=1,inplace=True)"
   ]
  },
  {
   "cell_type": "code",
   "execution_count": 208,
   "id": "ce3e1ba3-c2a2-4c22-a0cd-94b1d1b7616a",
   "metadata": {},
   "outputs": [
    {
     "data": {
      "text/html": [
       "<div>\n",
       "<style scoped>\n",
       "    .dataframe tbody tr th:only-of-type {\n",
       "        vertical-align: middle;\n",
       "    }\n",
       "\n",
       "    .dataframe tbody tr th {\n",
       "        vertical-align: top;\n",
       "    }\n",
       "\n",
       "    .dataframe thead th {\n",
       "        text-align: right;\n",
       "    }\n",
       "</style>\n",
       "<table border=\"1\" class=\"dataframe\">\n",
       "  <thead>\n",
       "    <tr style=\"text-align: right;\">\n",
       "      <th></th>\n",
       "      <th>ds</th>\n",
       "      <th>Market</th>\n",
       "      <th>y</th>\n",
       "    </tr>\n",
       "  </thead>\n",
       "  <tbody>\n",
       "    <tr>\n",
       "      <th>0</th>\n",
       "      <td>2023-08-01</td>\n",
       "      <td>Bowenpally</td>\n",
       "      <td>2400.0</td>\n",
       "    </tr>\n",
       "    <tr>\n",
       "      <th>1</th>\n",
       "      <td>2023-08-02</td>\n",
       "      <td>Bowenpally</td>\n",
       "      <td>2400.0</td>\n",
       "    </tr>\n",
       "    <tr>\n",
       "      <th>2</th>\n",
       "      <td>2023-08-03</td>\n",
       "      <td>Bowenpally</td>\n",
       "      <td>2400.0</td>\n",
       "    </tr>\n",
       "    <tr>\n",
       "      <th>3</th>\n",
       "      <td>2023-08-04</td>\n",
       "      <td>Bowenpally</td>\n",
       "      <td>2400.0</td>\n",
       "    </tr>\n",
       "    <tr>\n",
       "      <th>4</th>\n",
       "      <td>2023-08-05</td>\n",
       "      <td>Bowenpally</td>\n",
       "      <td>2400.0</td>\n",
       "    </tr>\n",
       "  </tbody>\n",
       "</table>\n",
       "</div>"
      ],
      "text/plain": [
       "          ds      Market       y\n",
       "0 2023-08-01  Bowenpally  2400.0\n",
       "1 2023-08-02  Bowenpally  2400.0\n",
       "2 2023-08-03  Bowenpally  2400.0\n",
       "3 2023-08-04  Bowenpally  2400.0\n",
       "4 2023-08-05  Bowenpally  2400.0"
      ]
     },
     "execution_count": 208,
     "metadata": {},
     "output_type": "execute_result"
    }
   ],
   "source": [
    "df1_price = df1_price.rename({'Min Price (Rs./Quintal)':'y','index':'ds'},axis=1)\n",
    "df1_price.head()"
   ]
  },
  {
   "cell_type": "code",
   "execution_count": 209,
   "id": "9248b698-105e-4a99-99b1-9195f04be9da",
   "metadata": {},
   "outputs": [],
   "source": [
    "Markets = df1_price.groupby('Market')"
   ]
  },
  {
   "cell_type": "code",
   "execution_count": 210,
   "id": "1798f217-3161-4d15-90b6-91b105f27ab7",
   "metadata": {},
   "outputs": [],
   "source": [
    "df1_price['cap'] = min(df1_price['y']) + max(df1_price['y'])"
   ]
  },
  {
   "cell_type": "code",
   "execution_count": 211,
   "id": "3ac0e763-5faa-47b5-9655-66ef7a4a43d5",
   "metadata": {},
   "outputs": [],
   "source": [
    "df1_price['floor'] = min(df1_price['y']) / 2"
   ]
  },
  {
   "cell_type": "code",
   "execution_count": 212,
   "id": "c097e09c-f7ca-465d-b149-0774ecd60481",
   "metadata": {},
   "outputs": [
    {
     "name": "stderr",
     "output_type": "stream",
     "text": [
      "17:04:35 - cmdstanpy - INFO - Chain [1] start processing\n",
      "17:04:36 - cmdstanpy - INFO - Chain [1] done processing\n"
     ]
    },
    {
     "data": {
      "image/png": "[encoded data removed]",
      "text/plain": [
       "<Figure size 1000x600 with 1 Axes>"
      ]
     },
     "metadata": {},
     "output_type": "display_data"
    }
   ],
   "source": [
    "for Market in Markets.groups:\n",
    "    group = Markets.get_group(Market)\n",
    "    m = Prophet(growth='logistic',interval_width=0.95, weekly_seasonality=True,daily_seasonality=True,seasonality_mode='additive')\n",
    "    #m = Prophet(growth='logistic',interval_width=0.95,daily_seasonality=True,weekly_seasonality=True,seasonality_mode='additive')    \n",
    "    m.fit(group)\n",
    "    future = m.make_future_dataframe(periods=15)\n",
    "    future['cap'] = min(df1_price['y']) + max(df1_price['y'])\n",
    "    future['floor'] = min(df1_price['y']) / 2\n",
    "    #print(future)\n",
    "    forecast = m.predict(future)   \n",
    "    m.plot(forecast,xlabel='Forecasting for '+ Market,ylabel='Market Price')\n",
    "    forecast = forecast.rename(columns=({'yhat':'yhat_'+ 'Market_Price'}))\n",
    "    target = pd.merge(target,forecast.set_index('ds'),how='outer',left_index=True,right_index=True)"
   ]
  },
  {
   "cell_type": "code",
   "execution_count": 213,
   "id": "f732656f-92b9-4097-82ec-202e307b22ed",
   "metadata": {},
   "outputs": [
    {
     "data": {
      "text/html": [
       "<div>\n",
       "<style scoped>\n",
       "    .dataframe tbody tr th:only-of-type {\n",
       "        vertical-align: middle;\n",
       "    }\n",
       "\n",
       "    .dataframe tbody tr th {\n",
       "        vertical-align: top;\n",
       "    }\n",
       "\n",
       "    .dataframe thead th {\n",
       "        text-align: right;\n",
       "    }\n",
       "</style>\n",
       "<table border=\"1\" class=\"dataframe\">\n",
       "  <thead>\n",
       "    <tr style=\"text-align: right;\">\n",
       "      <th></th>\n",
       "      <th>trend</th>\n",
       "      <th>cap</th>\n",
       "      <th>floor</th>\n",
       "      <th>yhat_lower</th>\n",
       "      <th>yhat_upper</th>\n",
       "      <th>trend_lower</th>\n",
       "      <th>trend_upper</th>\n",
       "      <th>additive_terms</th>\n",
       "      <th>additive_terms_lower</th>\n",
       "      <th>additive_terms_upper</th>\n",
       "      <th>daily</th>\n",
       "      <th>daily_lower</th>\n",
       "      <th>daily_upper</th>\n",
       "      <th>weekly</th>\n",
       "      <th>weekly_lower</th>\n",
       "      <th>weekly_upper</th>\n",
       "      <th>multiplicative_terms</th>\n",
       "      <th>multiplicative_terms_lower</th>\n",
       "      <th>multiplicative_terms_upper</th>\n",
       "      <th>yhat_Market_Price</th>\n",
       "    </tr>\n",
       "    <tr>\n",
       "      <th>ds</th>\n",
       "      <th></th>\n",
       "      <th></th>\n",
       "      <th></th>\n",
       "      <th></th>\n",
       "      <th></th>\n",
       "      <th></th>\n",
       "      <th></th>\n",
       "      <th></th>\n",
       "      <th></th>\n",
       "      <th></th>\n",
       "      <th></th>\n",
       "      <th></th>\n",
       "      <th></th>\n",
       "      <th></th>\n",
       "      <th></th>\n",
       "      <th></th>\n",
       "      <th></th>\n",
       "      <th></th>\n",
       "      <th></th>\n",
       "      <th></th>\n",
       "    </tr>\n",
       "  </thead>\n",
       "  <tbody>\n",
       "    <tr>\n",
       "      <th>2023-08-01</th>\n",
       "      <td>1846.165819</td>\n",
       "      <td>3100.0</td>\n",
       "      <td>150.0</td>\n",
       "      <td>305.815246</td>\n",
       "      <td>1627.862268</td>\n",
       "      <td>1846.165819</td>\n",
       "      <td>1846.165819</td>\n",
       "      <td>-869.104239</td>\n",
       "      <td>-869.104239</td>\n",
       "      <td>-869.104239</td>\n",
       "      <td>-865.40838</td>\n",
       "      <td>-865.40838</td>\n",
       "      <td>-865.40838</td>\n",
       "      <td>-3.695859</td>\n",
       "      <td>-3.695859</td>\n",
       "      <td>-3.695859</td>\n",
       "      <td>0.0</td>\n",
       "      <td>0.0</td>\n",
       "      <td>0.0</td>\n",
       "      <td>977.061579</td>\n",
       "    </tr>\n",
       "    <tr>\n",
       "      <th>2023-08-02</th>\n",
       "      <td>1841.342110</td>\n",
       "      <td>3100.0</td>\n",
       "      <td>150.0</td>\n",
       "      <td>223.776559</td>\n",
       "      <td>1660.908050</td>\n",
       "      <td>1841.342110</td>\n",
       "      <td>1841.342110</td>\n",
       "      <td>-881.316467</td>\n",
       "      <td>-881.316467</td>\n",
       "      <td>-881.316467</td>\n",
       "      <td>-865.40838</td>\n",
       "      <td>-865.40838</td>\n",
       "      <td>-865.40838</td>\n",
       "      <td>-15.908087</td>\n",
       "      <td>-15.908087</td>\n",
       "      <td>-15.908087</td>\n",
       "      <td>0.0</td>\n",
       "      <td>0.0</td>\n",
       "      <td>0.0</td>\n",
       "      <td>960.025644</td>\n",
       "    </tr>\n",
       "    <tr>\n",
       "      <th>2023-08-03</th>\n",
       "      <td>1836.513668</td>\n",
       "      <td>3100.0</td>\n",
       "      <td>150.0</td>\n",
       "      <td>272.809738</td>\n",
       "      <td>1609.421430</td>\n",
       "      <td>1836.513668</td>\n",
       "      <td>1836.513668</td>\n",
       "      <td>-863.348930</td>\n",
       "      <td>-863.348930</td>\n",
       "      <td>-863.348930</td>\n",
       "      <td>-865.40838</td>\n",
       "      <td>-865.40838</td>\n",
       "      <td>-865.40838</td>\n",
       "      <td>2.059450</td>\n",
       "      <td>2.059450</td>\n",
       "      <td>2.059450</td>\n",
       "      <td>0.0</td>\n",
       "      <td>0.0</td>\n",
       "      <td>0.0</td>\n",
       "      <td>973.164738</td>\n",
       "    </tr>\n",
       "    <tr>\n",
       "      <th>2023-08-04</th>\n",
       "      <td>1831.680593</td>\n",
       "      <td>3100.0</td>\n",
       "      <td>150.0</td>\n",
       "      <td>299.882554</td>\n",
       "      <td>1674.795317</td>\n",
       "      <td>1831.680593</td>\n",
       "      <td>1831.680593</td>\n",
       "      <td>-866.102101</td>\n",
       "      <td>-866.102101</td>\n",
       "      <td>-866.102101</td>\n",
       "      <td>-865.40838</td>\n",
       "      <td>-865.40838</td>\n",
       "      <td>-865.40838</td>\n",
       "      <td>-0.693721</td>\n",
       "      <td>-0.693721</td>\n",
       "      <td>-0.693721</td>\n",
       "      <td>0.0</td>\n",
       "      <td>0.0</td>\n",
       "      <td>0.0</td>\n",
       "      <td>965.578492</td>\n",
       "    </tr>\n",
       "    <tr>\n",
       "      <th>2023-08-05</th>\n",
       "      <td>1826.842987</td>\n",
       "      <td>3100.0</td>\n",
       "      <td>150.0</td>\n",
       "      <td>271.977958</td>\n",
       "      <td>1636.552180</td>\n",
       "      <td>1826.842987</td>\n",
       "      <td>1826.842987</td>\n",
       "      <td>-870.799283</td>\n",
       "      <td>-870.799283</td>\n",
       "      <td>-870.799283</td>\n",
       "      <td>-865.40838</td>\n",
       "      <td>-865.40838</td>\n",
       "      <td>-865.40838</td>\n",
       "      <td>-5.390903</td>\n",
       "      <td>-5.390903</td>\n",
       "      <td>-5.390903</td>\n",
       "      <td>0.0</td>\n",
       "      <td>0.0</td>\n",
       "      <td>0.0</td>\n",
       "      <td>956.043703</td>\n",
       "    </tr>\n",
       "    <tr>\n",
       "      <th>...</th>\n",
       "      <td>...</td>\n",
       "      <td>...</td>\n",
       "      <td>...</td>\n",
       "      <td>...</td>\n",
       "      <td>...</td>\n",
       "      <td>...</td>\n",
       "      <td>...</td>\n",
       "      <td>...</td>\n",
       "      <td>...</td>\n",
       "      <td>...</td>\n",
       "      <td>...</td>\n",
       "      <td>...</td>\n",
       "      <td>...</td>\n",
       "      <td>...</td>\n",
       "      <td>...</td>\n",
       "      <td>...</td>\n",
       "      <td>...</td>\n",
       "      <td>...</td>\n",
       "      <td>...</td>\n",
       "      <td>...</td>\n",
       "    </tr>\n",
       "    <tr>\n",
       "      <th>2024-08-11</th>\n",
       "      <td>1463.560448</td>\n",
       "      <td>3100.0</td>\n",
       "      <td>150.0</td>\n",
       "      <td>-29.493521</td>\n",
       "      <td>1307.391751</td>\n",
       "      <td>1460.792471</td>\n",
       "      <td>1466.379859</td>\n",
       "      <td>-813.322215</td>\n",
       "      <td>-813.322215</td>\n",
       "      <td>-813.322215</td>\n",
       "      <td>-865.40838</td>\n",
       "      <td>-865.40838</td>\n",
       "      <td>-865.40838</td>\n",
       "      <td>52.086165</td>\n",
       "      <td>52.086165</td>\n",
       "      <td>52.086165</td>\n",
       "      <td>0.0</td>\n",
       "      <td>0.0</td>\n",
       "      <td>0.0</td>\n",
       "      <td>650.238233</td>\n",
       "    </tr>\n",
       "    <tr>\n",
       "      <th>2024-08-12</th>\n",
       "      <td>1464.208467</td>\n",
       "      <td>3100.0</td>\n",
       "      <td>150.0</td>\n",
       "      <td>-73.706144</td>\n",
       "      <td>1266.999587</td>\n",
       "      <td>1461.149058</td>\n",
       "      <td>1467.534029</td>\n",
       "      <td>-893.865424</td>\n",
       "      <td>-893.865424</td>\n",
       "      <td>-893.865424</td>\n",
       "      <td>-865.40838</td>\n",
       "      <td>-865.40838</td>\n",
       "      <td>-865.40838</td>\n",
       "      <td>-28.457044</td>\n",
       "      <td>-28.457044</td>\n",
       "      <td>-28.457044</td>\n",
       "      <td>0.0</td>\n",
       "      <td>0.0</td>\n",
       "      <td>0.0</td>\n",
       "      <td>570.343043</td>\n",
       "    </tr>\n",
       "    <tr>\n",
       "      <th>2024-08-13</th>\n",
       "      <td>1464.856549</td>\n",
       "      <td>3100.0</td>\n",
       "      <td>150.0</td>\n",
       "      <td>-105.615967</td>\n",
       "      <td>1244.506928</td>\n",
       "      <td>1461.413906</td>\n",
       "      <td>1468.695639</td>\n",
       "      <td>-869.104239</td>\n",
       "      <td>-869.104239</td>\n",
       "      <td>-869.104239</td>\n",
       "      <td>-865.40838</td>\n",
       "      <td>-865.40838</td>\n",
       "      <td>-865.40838</td>\n",
       "      <td>-3.695859</td>\n",
       "      <td>-3.695859</td>\n",
       "      <td>-3.695859</td>\n",
       "      <td>0.0</td>\n",
       "      <td>0.0</td>\n",
       "      <td>0.0</td>\n",
       "      <td>595.752310</td>\n",
       "    </tr>\n",
       "    <tr>\n",
       "      <th>2024-08-14</th>\n",
       "      <td>1465.504694</td>\n",
       "      <td>3100.0</td>\n",
       "      <td>150.0</td>\n",
       "      <td>-82.626157</td>\n",
       "      <td>1261.190285</td>\n",
       "      <td>1461.521443</td>\n",
       "      <td>1469.848780</td>\n",
       "      <td>-881.316467</td>\n",
       "      <td>-881.316467</td>\n",
       "      <td>-881.316467</td>\n",
       "      <td>-865.40838</td>\n",
       "      <td>-865.40838</td>\n",
       "      <td>-865.40838</td>\n",
       "      <td>-15.908087</td>\n",
       "      <td>-15.908087</td>\n",
       "      <td>-15.908087</td>\n",
       "      <td>0.0</td>\n",
       "      <td>0.0</td>\n",
       "      <td>0.0</td>\n",
       "      <td>584.188227</td>\n",
       "    </tr>\n",
       "    <tr>\n",
       "      <th>2024-08-15</th>\n",
       "      <td>1466.152901</td>\n",
       "      <td>3100.0</td>\n",
       "      <td>150.0</td>\n",
       "      <td>-108.263143</td>\n",
       "      <td>1270.812818</td>\n",
       "      <td>1461.623032</td>\n",
       "      <td>1471.044773</td>\n",
       "      <td>-863.348930</td>\n",
       "      <td>-863.348930</td>\n",
       "      <td>-863.348930</td>\n",
       "      <td>-865.40838</td>\n",
       "      <td>-865.40838</td>\n",
       "      <td>-865.40838</td>\n",
       "      <td>2.059450</td>\n",
       "      <td>2.059450</td>\n",
       "      <td>2.059450</td>\n",
       "      <td>0.0</td>\n",
       "      <td>0.0</td>\n",
       "      <td>0.0</td>\n",
       "      <td>602.803971</td>\n",
       "    </tr>\n",
       "  </tbody>\n",
       "</table>\n",
       "<p>381 rows × 20 columns</p>\n",
       "</div>"
      ],
      "text/plain": [
       "                  trend     cap  floor  yhat_lower   yhat_upper  trend_lower  \\\n",
       "ds                                                                             \n",
       "2023-08-01  1846.165819  3100.0  150.0  305.815246  1627.862268  1846.165819   \n",
       "2023-08-02  1841.342110  3100.0  150.0  223.776559  1660.908050  1841.342110   \n",
       "2023-08-03  1836.513668  3100.0  150.0  272.809738  1609.421430  1836.513668   \n",
       "2023-08-04  1831.680593  3100.0  150.0  299.882554  1674.795317  1831.680593   \n",
       "2023-08-05  1826.842987  3100.0  150.0  271.977958  1636.552180  1826.842987   \n",
       "...                 ...     ...    ...         ...          ...          ...   \n",
       "2024-08-11  1463.560448  3100.0  150.0  -29.493521  1307.391751  1460.792471   \n",
       "2024-08-12  1464.208467  3100.0  150.0  -73.706144  1266.999587  1461.149058   \n",
       "2024-08-13  1464.856549  3100.0  150.0 -105.615967  1244.506928  1461.413906   \n",
       "2024-08-14  1465.504694  3100.0  150.0  -82.626157  1261.190285  1461.521443   \n",
       "2024-08-15  1466.152901  3100.0  150.0 -108.263143  1270.812818  1461.623032   \n",
       "\n",
       "            trend_upper  additive_terms  additive_terms_lower  \\\n",
       "ds                                                              \n",
       "2023-08-01  1846.165819     -869.104239           -869.104239   \n",
       "2023-08-02  1841.342110     -881.316467           -881.316467   \n",
       "2023-08-03  1836.513668     -863.348930           -863.348930   \n",
       "2023-08-04  1831.680593     -866.102101           -866.102101   \n",
       "2023-08-05  1826.842987     -870.799283           -870.799283   \n",
       "...                 ...             ...                   ...   \n",
       "2024-08-11  1466.379859     -813.322215           -813.322215   \n",
       "2024-08-12  1467.534029     -893.865424           -893.865424   \n",
       "2024-08-13  1468.695639     -869.104239           -869.104239   \n",
       "2024-08-14  1469.848780     -881.316467           -881.316467   \n",
       "2024-08-15  1471.044773     -863.348930           -863.348930   \n",
       "\n",
       "            additive_terms_upper      daily  daily_lower  daily_upper  \\\n",
       "ds                                                                      \n",
       "2023-08-01           -869.104239 -865.40838   -865.40838   -865.40838   \n",
       "2023-08-02           -881.316467 -865.40838   -865.40838   -865.40838   \n",
       "2023-08-03           -863.348930 -865.40838   -865.40838   -865.40838   \n",
       "2023-08-04           -866.102101 -865.40838   -865.40838   -865.40838   \n",
       "2023-08-05           -870.799283 -865.40838   -865.40838   -865.40838   \n",
       "...                          ...        ...          ...          ...   \n",
       "2024-08-11           -813.322215 -865.40838   -865.40838   -865.40838   \n",
       "2024-08-12           -893.865424 -865.40838   -865.40838   -865.40838   \n",
       "2024-08-13           -869.104239 -865.40838   -865.40838   -865.40838   \n",
       "2024-08-14           -881.316467 -865.40838   -865.40838   -865.40838   \n",
       "2024-08-15           -863.348930 -865.40838   -865.40838   -865.40838   \n",
       "\n",
       "               weekly  weekly_lower  weekly_upper  multiplicative_terms  \\\n",
       "ds                                                                        \n",
       "2023-08-01  -3.695859     -3.695859     -3.695859                   0.0   \n",
       "2023-08-02 -15.908087    -15.908087    -15.908087                   0.0   \n",
       "2023-08-03   2.059450      2.059450      2.059450                   0.0   \n",
       "2023-08-04  -0.693721     -0.693721     -0.693721                   0.0   \n",
       "2023-08-05  -5.390903     -5.390903     -5.390903                   0.0   \n",
       "...               ...           ...           ...                   ...   \n",
       "2024-08-11  52.086165     52.086165     52.086165                   0.0   \n",
       "2024-08-12 -28.457044    -28.457044    -28.457044                   0.0   \n",
       "2024-08-13  -3.695859     -3.695859     -3.695859                   0.0   \n",
       "2024-08-14 -15.908087    -15.908087    -15.908087                   0.0   \n",
       "2024-08-15   2.059450      2.059450      2.059450                   0.0   \n",
       "\n",
       "            multiplicative_terms_lower  multiplicative_terms_upper  \\\n",
       "ds                                                                   \n",
       "2023-08-01                         0.0                         0.0   \n",
       "2023-08-02                         0.0                         0.0   \n",
       "2023-08-03                         0.0                         0.0   \n",
       "2023-08-04                         0.0                         0.0   \n",
       "2023-08-05                         0.0                         0.0   \n",
       "...                                ...                         ...   \n",
       "2024-08-11                         0.0                         0.0   \n",
       "2024-08-12                         0.0                         0.0   \n",
       "2024-08-13                         0.0                         0.0   \n",
       "2024-08-14                         0.0                         0.0   \n",
       "2024-08-15                         0.0                         0.0   \n",
       "\n",
       "            yhat_Market_Price  \n",
       "ds                             \n",
       "2023-08-01         977.061579  \n",
       "2023-08-02         960.025644  \n",
       "2023-08-03         973.164738  \n",
       "2023-08-04         965.578492  \n",
       "2023-08-05         956.043703  \n",
       "...                       ...  \n",
       "2024-08-11         650.238233  \n",
       "2024-08-12         570.343043  \n",
       "2024-08-13         595.752310  \n",
       "2024-08-14         584.188227  \n",
       "2024-08-15         602.803971  \n",
       "\n",
       "[381 rows x 20 columns]"
      ]
     },
     "execution_count": 213,
     "metadata": {},
     "output_type": "execute_result"
    }
   ],
   "source": [
    "target"
   ]
  },
  {
   "cell_type": "code",
   "execution_count": 214,
   "id": "297f98ca-115f-4aaa-a9f0-7c81461f6e7a",
   "metadata": {},
   "outputs": [
    {
     "data": {
      "text/plain": [
       "ds\n",
       "2023-08-01    977.061579\n",
       "2023-08-02    960.025644\n",
       "2023-08-03    973.164738\n",
       "2023-08-04    965.578492\n",
       "2023-08-05    956.043703\n",
       "                 ...    \n",
       "2024-08-11    650.238233\n",
       "2024-08-12    570.343043\n",
       "2024-08-13    595.752310\n",
       "2024-08-14    584.188227\n",
       "2024-08-15    602.803971\n",
       "Name: yhat_Market_Price, Length: 381, dtype: float64"
      ]
     },
     "execution_count": 214,
     "metadata": {},
     "output_type": "execute_result"
    }
   ],
   "source": [
    "target['yhat_Market_Price']"
   ]
  },
  {
   "cell_type": "code",
   "execution_count": 215,
   "id": "c43345a7-0047-422d-9a58-454816731ac8",
   "metadata": {},
   "outputs": [],
   "source": [
    "Price = pd.DataFrame(data=target['yhat_Market_Price'])"
   ]
  },
  {
   "cell_type": "code",
   "execution_count": 216,
   "id": "d71b89fe-ad37-4991-98c8-d8ce7730550f",
   "metadata": {},
   "outputs": [
    {
     "data": {
      "text/html": [
       "<div>\n",
       "<style scoped>\n",
       "    .dataframe tbody tr th:only-of-type {\n",
       "        vertical-align: middle;\n",
       "    }\n",
       "\n",
       "    .dataframe tbody tr th {\n",
       "        vertical-align: top;\n",
       "    }\n",
       "\n",
       "    .dataframe thead th {\n",
       "        text-align: right;\n",
       "    }\n",
       "</style>\n",
       "<table border=\"1\" class=\"dataframe\">\n",
       "  <thead>\n",
       "    <tr style=\"text-align: right;\">\n",
       "      <th></th>\n",
       "      <th>yhat_Market_Price</th>\n",
       "    </tr>\n",
       "    <tr>\n",
       "      <th>ds</th>\n",
       "      <th></th>\n",
       "    </tr>\n",
       "  </thead>\n",
       "  <tbody>\n",
       "    <tr>\n",
       "      <th>2024-08-01</th>\n",
       "      <td>593.734834</td>\n",
       "    </tr>\n",
       "    <tr>\n",
       "      <th>2024-08-02</th>\n",
       "      <td>591.629040</td>\n",
       "    </tr>\n",
       "    <tr>\n",
       "      <th>2024-08-03</th>\n",
       "      <td>587.579301</td>\n",
       "    </tr>\n",
       "    <tr>\n",
       "      <th>2024-08-04</th>\n",
       "      <td>645.703877</td>\n",
       "    </tr>\n",
       "    <tr>\n",
       "      <th>2024-08-05</th>\n",
       "      <td>565.808241</td>\n",
       "    </tr>\n",
       "    <tr>\n",
       "      <th>2024-08-06</th>\n",
       "      <td>591.217063</td>\n",
       "    </tr>\n",
       "    <tr>\n",
       "      <th>2024-08-07</th>\n",
       "      <td>579.652537</td>\n",
       "    </tr>\n",
       "    <tr>\n",
       "      <th>2024-08-08</th>\n",
       "      <td>598.267839</td>\n",
       "    </tr>\n",
       "    <tr>\n",
       "      <th>2024-08-09</th>\n",
       "      <td>596.162497</td>\n",
       "    </tr>\n",
       "    <tr>\n",
       "      <th>2024-08-10</th>\n",
       "      <td>592.113208</td>\n",
       "    </tr>\n",
       "    <tr>\n",
       "      <th>2024-08-11</th>\n",
       "      <td>650.238233</td>\n",
       "    </tr>\n",
       "    <tr>\n",
       "      <th>2024-08-12</th>\n",
       "      <td>570.343043</td>\n",
       "    </tr>\n",
       "    <tr>\n",
       "      <th>2024-08-13</th>\n",
       "      <td>595.752310</td>\n",
       "    </tr>\n",
       "    <tr>\n",
       "      <th>2024-08-14</th>\n",
       "      <td>584.188227</td>\n",
       "    </tr>\n",
       "    <tr>\n",
       "      <th>2024-08-15</th>\n",
       "      <td>602.803971</td>\n",
       "    </tr>\n",
       "  </tbody>\n",
       "</table>\n",
       "</div>"
      ],
      "text/plain": [
       "            yhat_Market_Price\n",
       "ds                           \n",
       "2024-08-01         593.734834\n",
       "2024-08-02         591.629040\n",
       "2024-08-03         587.579301\n",
       "2024-08-04         645.703877\n",
       "2024-08-05         565.808241\n",
       "2024-08-06         591.217063\n",
       "2024-08-07         579.652537\n",
       "2024-08-08         598.267839\n",
       "2024-08-09         596.162497\n",
       "2024-08-10         592.113208\n",
       "2024-08-11         650.238233\n",
       "2024-08-12         570.343043\n",
       "2024-08-13         595.752310\n",
       "2024-08-14         584.188227\n",
       "2024-08-15         602.803971"
      ]
     },
     "execution_count": 216,
     "metadata": {},
     "output_type": "execute_result"
    }
   ],
   "source": [
    "Price.tail(15)"
   ]
  },
  {
   "cell_type": "code",
   "execution_count": 217,
   "id": "d671edfd-77c7-414b-a40e-6cd16736057d",
   "metadata": {},
   "outputs": [],
   "source": [
    "def mape(actual,pred):\n",
    "    actual, pred = np.array(actual),np.array(pred)\n",
    "    return np.mean(np.abs((actual-pred)/actual))*100"
   ]
  },
  {
   "cell_type": "code",
   "execution_count": 218,
   "id": "cad842e9-8837-402b-a878-b168e787be1c",
   "metadata": {},
   "outputs": [],
   "source": [
    "mape_min_price = mape(df1_price_new['Min Price (Rs./Quintal)'],Price['yhat_Market_Price'][:df1_price_new.shape[0]])"
   ]
  },
  {
   "cell_type": "code",
   "execution_count": 219,
   "id": "1daafe52-7988-4773-8e94-42ece321b2a9",
   "metadata": {},
   "outputs": [
    {
     "data": {
      "text/plain": [
       "34.0689550148656"
      ]
     },
     "execution_count": 219,
     "metadata": {},
     "output_type": "execute_result"
    }
   ],
   "source": [
    "mape_min_price"
   ]
  },
  {
   "cell_type": "code",
   "execution_count": 220,
   "id": "0aadbe12",
   "metadata": {},
   "outputs": [],
   "source": [
    "dump_model = 'min_price15days'+'_'+veg\n"
   ]
  },
  {
   "cell_type": "code",
   "execution_count": 221,
   "id": "76a667c2",
   "metadata": {},
   "outputs": [
    {
     "name": "stdout",
     "output_type": "stream",
     "text": [
      "min_price15days_Tomato\n"
     ]
    }
   ],
   "source": [
    "print(dump_model)"
   ]
  },
  {
   "cell_type": "code",
   "execution_count": 222,
   "id": "d149e6b5-7f81-40e7-b32a-751bb96cb117",
   "metadata": {},
   "outputs": [
    {
     "data": {
      "text/plain": [
       "['min_price15days.joblib']"
      ]
     },
     "execution_count": 222,
     "metadata": {},
     "output_type": "execute_result"
    }
   ],
   "source": [
    "joblib.dump(m,'min_price15days.joblib')"
   ]
  }
 ],
 "metadata": {
  "kernelspec": {
   "display_name": "Python 3 (ipykernel)",
   "language": "python",
   "name": "python3"
  },
  "language_info": {
   "codemirror_mode": {
    "name": "ipython",
    "version": 3
   },
   "file_extension": ".py",
   "mimetype": "text/x-python",
   "name": "python",
   "nbconvert_exporter": "python",
   "pygments_lexer": "ipython3",
   "version": "3.8.19"
  }
 },
 "nbformat": 4,
 "nbformat_minor": 5
}
